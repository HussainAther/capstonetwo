{
 "cells": [
  {
   "cell_type": "markdown",
   "metadata": {},
   "source": [
    "# Use the Feature Extractor to Create a Pickled Dictionary\n",
    "\n",
    "We go through the images folder to create a dictionary of features indexed by object ID. The dictionary looks something like this:\n",
    "\n",
    "```\n",
    "features = {\n",
    "    objectID1: 1000 dimensional feature_vector,\n",
    "    objectID2: 1000 dimensional feature_vector,\n",
    "    etc.\n",
    "}\n",
    "```"
   ]
  },
  {
   "cell_type": "code",
   "execution_count": null,
   "metadata": {},
   "outputs": [],
   "source": [
    "import sys\n",
    "sys.path.append(\"../main/\")"
   ]
  },
  {
   "cell_type": "code",
   "execution_count": null,
   "metadata": {},
   "outputs": [],
   "source": [
    "from feature_extractor import FeatureExtractor\n",
    "%load_ext autoreload\n",
    "%autoreload 2\n",
    "\n",
    "IMAGE_FOLDER_PATH = \"../main/data/images\"\n",
    "model = FeatureExtractor(IMAGE_FOLDER_PATH)"
   ]
  },
  {
   "cell_type": "markdown",
   "metadata": {},
   "source": [
    "## Create the features dictionary\n",
    "\n",
    "This will print out the object IDs as the images are converted to their 1000 dimensional feature vectors."
   ]
  },
  {
   "cell_type": "code",
   "execution_count": null,
   "metadata": {},
   "outputs": [],
   "source": [
    "features_dict = {}\n",
    "\n",
    "objectids = model.get_valid_objectids()\n",
    "\n",
    "print(\"last objectid is {}\".format(objectids[-1]))\n",
    "\n",
    "for objectid in objectids:\n",
    "    features = model(objectid)[0].detach().numpy()\n",
    "    \n",
    "    features_dict[objectid] = features\n",
    "    \n",
    "    print(\"saved {}\".format(objectid))"
   ]
  },
  {
   "cell_type": "markdown",
   "metadata": {},
   "source": [
    "## save the dictionary to a pickle file"
   ]
  },
  {
   "cell_type": "code",
   "execution_count": null,
   "metadata": {},
   "outputs": [],
   "source": [
    "import pickle\n",
    "\n",
    "# optionally save with a timestamp\n",
    "# import datetime\n",
    "# timestamp = str(datetime.datetime.now()).replace(\" \", \"_\")\n",
    "# filename = '../main/data/features_dict_{}.pickle'.format(timestamp)\n",
    "\n",
    "# don't save with a timestamp\n",
    "filename = '../main/data/features_dict.pickle'\n",
    "\n",
    "print(\"saving {}\".format(filename))\n",
    "with open(filename, 'wb') as handle:\n",
    "    pickle.dump(features_dict, handle)"
   ]
  }
 ],
 "metadata": {
  "kernelspec": {
   "display_name": "arart",
   "language": "python",
   "name": "arart"
  },
  "language_info": {
   "codemirror_mode": {
    "name": "ipython",
    "version": 3
   },
   "file_extension": ".py",
   "mimetype": "text/x-python",
   "name": "python",
   "nbconvert_exporter": "python",
   "pygments_lexer": "ipython3",
   "version": "3.7.1"
  }
 },
 "nbformat": 4,
 "nbformat_minor": 2
}
