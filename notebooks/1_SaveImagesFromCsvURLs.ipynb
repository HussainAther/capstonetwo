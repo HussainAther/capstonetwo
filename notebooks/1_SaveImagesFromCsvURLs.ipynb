{
 "cells": [
  {
   "cell_type": "markdown",
   "metadata": {},
   "source": [
    "# Save Images from the URLs to a Folder\n",
    "\n",
    "This script may not be needed depending on the data used. However, we need this script for The MET dataset. The CSV we created has image URLs, so in order to create a folder of images we must download the images to files. This notebook file accomplishses that."
   ]
  },
  {
   "cell_type": "code",
   "execution_count": null,
   "metadata": {},
   "outputs": [],
   "source": [
    "import pandas as pd\n",
    "import urllib\n",
    "import os"
   ]
  },
  {
   "cell_type": "code",
   "execution_count": null,
   "metadata": {},
   "outputs": [],
   "source": [
    "# read from the dataset\n",
    "FILENAME = \"../main/data/metdata.csv\"\n",
    "df = pd.read_csv(FILENAME, skipinitialspace=True)\n",
    "\n",
    "# folder to store images\n",
    "IMAGE_FOLDER = \"../main/data/images\"\n",
    "\n",
    "# make the image folder if it doesn't exit\n",
    "if not os.path.exists(IMAGE_FOLDER):\n",
    "    os.makedirs(IMAGE_FOLDER)"
   ]
  },
  {
   "cell_type": "code",
   "execution_count": null,
   "metadata": {
    "scrolled": true
   },
   "outputs": [],
   "source": [
    "# go through all the images and save when the URL field exists in the csv file\n",
    "for ID, imgurl in zip(df['objectID'][:], df['primaryImage'][:]):\n",
    "    if not pd.isna(imgurl):\n",
    "        image_filename = os.path.join(IMAGE_FOLDER, \"{}.jpg\".format(ID))\n",
    "        try:\n",
    "            # have to detail with replacing spaces\n",
    "            resource = urllib.request.urlopen(imgurl.replace(\" \", \"%20\"))\n",
    "            output = open(image_filename, \"wb\")\n",
    "            output.write(resource.read())\n",
    "            output.close()\n",
    "            # print the id of the object when it is found\n",
    "            print(ID)\n",
    "        except:\n",
    "            print(\"{} ID didn't work\".format(ID))\n",
    "            # delete the image if it didn't save properly yet still exists\n",
    "            if os.path.exists(image_filename):\n",
    "                os.remove(image_filename)\n",
    "            else:\n",
    "                print(\"The file does not exist\")"
   ]
  }
 ],
 "metadata": {
  "kernelspec": {
   "display_name": "arart",
   "language": "python",
   "name": "arart"
  },
  "language_info": {
   "codemirror_mode": {
    "name": "ipython",
    "version": 3
   },
   "file_extension": ".py",
   "mimetype": "text/x-python",
   "name": "python",
   "nbconvert_exporter": "python",
   "pygments_lexer": "ipython3",
   "version": "3.7.1"
  }
 },
 "nbformat": 4,
 "nbformat_minor": 2
}
