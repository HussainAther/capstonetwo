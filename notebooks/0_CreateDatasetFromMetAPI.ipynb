{
 "cells": [
  {
   "cell_type": "markdown",
   "metadata": {},
   "source": [
    "# Get Data into a CSV File\n",
    "\n",
    "If using your own dataset, you can edit this notebook in a way to produce to a .csv file with the same structure. In this notebook, we use data from The MET API, which is documented at https://metmuseum.github.io/."
   ]
  },
  {
   "cell_type": "code",
   "execution_count": null,
   "metadata": {},
   "outputs": [],
   "source": [
    "import numpy as np\n",
    "import cv2\n",
    "import requests\n",
    "import csv\n",
    "import os"
   ]
  },
  {
   "cell_type": "markdown",
   "metadata": {},
   "source": [
    "## Use The MET API to get the object IDs\n",
    "\n",
    "The object IDs correspond to each of the art pieces in the dataset."
   ]
  },
  {
   "cell_type": "code",
   "execution_count": null,
   "metadata": {},
   "outputs": [],
   "source": [
    "r = requests.get(\"https://collectionapi.metmuseum.org/public/collection/v1/objects\")\n",
    "r_json = r.json()\n",
    "total = r_json['total']\n",
    "print(\"There are {} valid objects in this dataset\".format(total))\n",
    "objectIDs = r_json['objectIDs']"
   ]
  },
  {
   "cell_type": "code",
   "execution_count": null,
   "metadata": {},
   "outputs": [],
   "source": [
    "# get the column headers from the first object ID\n",
    "prefix = \"https://collectionapi.metmuseum.org/public/collection/v1/objects/\"\n",
    "url = prefix + str(objectIDs[0])\n",
    "r = requests.get(url)\n",
    "col_headers = r.json().keys()\n",
    "# create the csv file and write the first row\n",
    "filename = '../main/data/metdata.csv'\n",
    "# remove if it already exists\n",
    "try:\n",
    "    os.remove(filename)\n",
    "except OSError:\n",
    "    pass\n",
    "\n",
    "print(\"The column headers are the following: {}\".format(col_headers))"
   ]
  },
  {
   "cell_type": "code",
   "execution_count": null,
   "metadata": {},
   "outputs": [],
   "source": [
    "# make the data folder if needed\n",
    "data_folder = os.path.dirname(filename)\n",
    "if not os.path.exists(data_folder):\n",
    "    os.makedirs(data_folder)"
   ]
  },
  {
   "cell_type": "markdown",
   "metadata": {},
   "source": [
    "## Go through the objects and write lines in the CSV file\n",
    "\n",
    "The columns of the CSV are labeled by the headers above."
   ]
  },
  {
   "cell_type": "code",
   "execution_count": null,
   "metadata": {},
   "outputs": [],
   "source": [
    "# specify a limit on the the number of rows to write\n",
    "# this can be changed\n",
    "NUMBER_OF_OBJECTIDS_TO_MAKE = 500"
   ]
  },
  {
   "cell_type": "code",
   "execution_count": null,
   "metadata": {
    "scrolled": true
   },
   "outputs": [],
   "source": [
    "# iterate through the object ids and write the the file\n",
    "with open(filename, 'w') as csv_file:\n",
    "    csv_writer = csv.writer(csv_file)\n",
    "    csv_writer.writerow(col_headers)\n",
    "    \n",
    "    for index, ID in enumerate(objectIDs):\n",
    "        url = prefix + str(ID)\n",
    "        r = requests.get(url)\n",
    "        values = r.json().values()\n",
    "        csv_writer.writerow(values)\n",
    "        # print out each of the rows by their index\n",
    "        print(index)\n",
    "        if index > NUMBER_OF_OBJECTIDS_TO_MAKE:\n",
    "            break"
   ]
  }
 ],
 "metadata": {
  "kernelspec": {
   "display_name": "arart",
   "language": "python",
   "name": "arart"
  },
  "language_info": {
   "codemirror_mode": {
    "name": "ipython",
    "version": 3
   },
   "file_extension": ".py",
   "mimetype": "text/x-python",
   "name": "python",
   "nbconvert_exporter": "python",
   "pygments_lexer": "ipython3",
   "version": "3.7.1"
  }
 },
 "nbformat": 4,
 "nbformat_minor": 2
}
